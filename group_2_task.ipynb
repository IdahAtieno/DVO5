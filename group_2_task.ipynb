{
  "nbformat": 4,
  "nbformat_minor": 0,
  "metadata": {
    "colab": {
      "provenance": [],
      "authorship_tag": "ABX9TyOu7CINn2gn0uqAd+YXqTCM",
      "include_colab_link": true
    },
    "kernelspec": {
      "name": "python3",
      "display_name": "Python 3"
    },
    "language_info": {
      "name": "python"
    }
  },
  "cells": [
    {
      "cell_type": "markdown",
      "metadata": {
        "id": "view-in-github",
        "colab_type": "text"
      },
      "source": [
        "<a href=\"https://colab.research.google.com/github/IdahAtieno/DVO5/blob/main/group_2_task.ipynb\" target=\"_parent\"><img src=\"https://colab.research.google.com/assets/colab-badge.svg\" alt=\"Open In Colab\"/></a>"
      ]
    },
    {
      "cell_type": "code",
      "execution_count": null,
      "metadata": {
        "id": "ZUedIbZArhI8"
      },
      "outputs": [],
      "source": [
        "# creating variables of different data types\n"
      ]
    },
    {
      "cell_type": "code",
      "source": [
        "# varible called jina which is a string\n",
        "jina = ('Idah')\n",
        "type(jina)"
      ],
      "metadata": {
        "colab": {
          "base_uri": "https://localhost:8080/"
        },
        "id": "bW4zXz9Lr2YX",
        "outputId": "33ffe5eb-234b-4ff5-dacd-03abe7981b15"
      },
      "execution_count": 9,
      "outputs": [
        {
          "output_type": "execute_result",
          "data": {
            "text/plain": [
              "str"
            ]
          },
          "metadata": {},
          "execution_count": 9
        }
      ]
    },
    {
      "cell_type": "code",
      "source": [
        "# variable called alama which is a float\n",
        "alama = (90.5)\n",
        "type(alama)"
      ],
      "metadata": {
        "colab": {
          "base_uri": "https://localhost:8080/"
        },
        "id": "IgPVqTLAsUtA",
        "outputId": "abf3b9f1-29e0-4bc0-cbd1-33d5bb7813d1"
      },
      "execution_count": 10,
      "outputs": [
        {
          "output_type": "execute_result",
          "data": {
            "text/plain": [
              "float"
            ]
          },
          "metadata": {},
          "execution_count": 10
        }
      ]
    },
    {
      "cell_type": "code",
      "source": [
        "# variable called called grade which is a boolean\n",
        "grade = (True)\n",
        "type(grade)"
      ],
      "metadata": {
        "colab": {
          "base_uri": "https://localhost:8080/"
        },
        "id": "PZgPCpdPt_3P",
        "outputId": "05b75741-c651-4639-d1ae-5f76e7a138de"
      },
      "execution_count": 11,
      "outputs": [
        {
          "output_type": "execute_result",
          "data": {
            "text/plain": [
              "bool"
            ]
          },
          "metadata": {},
          "execution_count": 11
        }
      ]
    },
    {
      "cell_type": "code",
      "source": [
        "# create and manipulate a list\n",
        "student_names = ['Anthony','Rosalia','Keith','Calvin','Patric']\n",
        "print(student_names)"
      ],
      "metadata": {
        "colab": {
          "base_uri": "https://localhost:8080/"
        },
        "id": "fkYatChMuWFI",
        "outputId": "410d5a55-990b-4823-d5f8-f446d2948406"
      },
      "execution_count": 21,
      "outputs": [
        {
          "output_type": "stream",
          "name": "stdout",
          "text": [
            "['Anthony', 'Rosalia', 'Keith', 'Calvin', 'Patric']\n"
          ]
        }
      ]
    },
    {
      "cell_type": "code",
      "source": [
        "# adding an additional item to the student_names list\n",
        "student_names.append(input('New student'))\n",
        "print(student_names)"
      ],
      "metadata": {
        "colab": {
          "base_uri": "https://localhost:8080/"
        },
        "id": "MG9Z5vmGv1Fy",
        "outputId": "9d8855c4-edad-4247-8d26-c9a64280e41d"
      },
      "execution_count": 22,
      "outputs": [
        {
          "output_type": "stream",
          "name": "stdout",
          "text": [
            "New studentIdah\n",
            "['Anthony', 'Rosalia', 'Keith', 'Calvin', 'Patric', 'Idah']\n"
          ]
        }
      ]
    },
    {
      "cell_type": "code",
      "source": [
        "student_names.pop(2)\n",
        "print(student_names)"
      ],
      "metadata": {
        "colab": {
          "base_uri": "https://localhost:8080/"
        },
        "id": "w2XwQioiyk3c",
        "outputId": "06f80ea3-4cf3-4fc7-e70e-143a734b210c"
      },
      "execution_count": 23,
      "outputs": [
        {
          "output_type": "stream",
          "name": "stdout",
          "text": [
            "['Anthony', 'Rosalia', 'Calvin', 'Patric', 'Idah']\n"
          ]
        }
      ]
    },
    {
      "cell_type": "code",
      "source": [
        "# creating a tuple\n",
        "streams = ('red','blue','green')\n",
        "print(streams)"
      ],
      "metadata": {
        "colab": {
          "base_uri": "https://localhost:8080/"
        },
        "id": "GIAh_Lu_0fAx",
        "outputId": "e30d2f33-8c28-47b6-8bd6-8a0a93af3701"
      },
      "execution_count": 25,
      "outputs": [
        {
          "output_type": "stream",
          "name": "stdout",
          "text": [
            "('red', 'blue', 'green')\n"
          ]
        }
      ]
    },
    {
      "cell_type": "code",
      "source": [
        "# creating a set\n",
        "subjects = {'maths','english','kiswahili','science','social studies'}\n",
        "print(subjects)"
      ],
      "metadata": {
        "colab": {
          "base_uri": "https://localhost:8080/"
        },
        "id": "aC5yXzNP0yHD",
        "outputId": "e0c45fb2-3608-449f-ca8b-5d71a1c3ecef"
      },
      "execution_count": 28,
      "outputs": [
        {
          "output_type": "stream",
          "name": "stdout",
          "text": [
            "['maths', 'english', 'kiswahili', 'science', 'social studies']\n"
          ]
        }
      ]
    },
    {
      "cell_type": "code",
      "source": [
        "# using a set\n",
        "extra_set = {'science','cre','maths','english','kiswahili'}\n",
        "subjects == extra_set"
      ],
      "metadata": {
        "colab": {
          "base_uri": "https://localhost:8080/"
        },
        "id": "D6WB1s8V1iok",
        "outputId": "13604643-7722-495c-8816-8bff9f200029"
      },
      "execution_count": 30,
      "outputs": [
        {
          "output_type": "execute_result",
          "data": {
            "text/plain": [
              "False"
            ]
          },
          "metadata": {},
          "execution_count": 30
        }
      ]
    },
    {
      "cell_type": "code",
      "source": [
        "if subjects == extra_set:\n",
        "  print(True)\n",
        "else:\n",
        "  print(False)"
      ],
      "metadata": {
        "colab": {
          "base_uri": "https://localhost:8080/"
        },
        "id": "rtrVeHvQ7FG6",
        "outputId": "fa888290-2a4e-4762-eb82-bd9e8010fdd2"
      },
      "execution_count": 31,
      "outputs": [
        {
          "output_type": "stream",
          "name": "stdout",
          "text": [
            "False\n"
          ]
        }
      ]
    },
    {
      "cell_type": "code",
      "source": [
        "# creating and manipulating a dictionary\n",
        "student_data = {'student_names': student_names, 'streams': streams, 'subjects': subjects }"
      ],
      "metadata": {
        "id": "I9FVQJP87sQ8"
      },
      "execution_count": 32,
      "outputs": []
    },
    {
      "cell_type": "code",
      "source": [
        "for student in student_data:\n",
        "  print(student)"
      ],
      "metadata": {
        "colab": {
          "base_uri": "https://localhost:8080/"
        },
        "id": "fVZDlkdB9zYv",
        "outputId": "7107ac01-6562-460f-c517-f6030730eefb"
      },
      "execution_count": 33,
      "outputs": [
        {
          "output_type": "stream",
          "name": "stdout",
          "text": [
            "student_names\n",
            "streams\n",
            "subjects\n"
          ]
        }
      ]
    }
  ]
}